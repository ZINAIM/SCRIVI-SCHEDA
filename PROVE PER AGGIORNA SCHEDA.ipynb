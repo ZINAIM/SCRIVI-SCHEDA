{
 "cells": [
  {
   "cell_type": "code",
   "execution_count": 6,
   "id": "4b4fe0a2",
   "metadata": {},
   "outputs": [
    {
     "name": "stdout",
     "output_type": "stream",
     "text": [
      "('pull up piedi a terra', 'Australian pull up', 'appensione passiva', 'po', 'arco lombare dinamico', 'tuck L-sit', 'leg lift a terra', 'mobilit', 'V', 'Push up piedi rialzo', 'push up larghi', 'one leg squat box', 'Affondi', 'hollow body', 'superman', 'mobilit', 'archer australian pull up', 'pull up piedi a terra', 'appensione passiva', 'squat', 'drinking bird', 'plank walk out', 'Plank laterale', 'mobilit', 'Dip', 'V push up', 'dip panchetta', 'calf raise', 'affondi dietro', 'wall walk a', 'leg lift a terra', 'mobilit', 'Video esercizi', 'pull up piedi a terra', 'Australian pull up', 'appensione passiva', 'po', 'arco lombare dinamico', 'tuck L-sit', 'leg lift a terra', 'mobilit', 'V', 'Push up piedi rialzo', 'push up larghi', 'one leg squat box', 'Affondi', 'hollow body', 'superman', 'archer australian pull up', 'pull up piedi a terra', 'appensione passiva', 'squat', 'drinking bird', 'plank walk out', 'Plank laterale', 'Dip', 'V push up', 'dip panchetta', 'calf raise', 'affondi dietro', 'wall walk a')\n"
     ]
    }
   ],
   "source": [
    "import docx\n",
    "import re\n",
    "\n",
    "def estrai_nomi_esercizi_da_docx(file_path):\n",
    "    doc = docx.Document(file_path)\n",
    "    esercizi = []\n",
    "    for para in doc.paragraphs:\n",
    "        testo = para.text.strip()\n",
    "        # Escludi righe che contengono parole chiave non desiderate\n",
    "        if testo and not re.search(r\"(scheda|settimana|giorno)\", testo, re.IGNORECASE):\n",
    "            # Prendi solo la parte prima dei numeri o simboli\n",
    "            match = re.match(r\"([a-zA-Z\\s\\-]+)\", testo)\n",
    "            if match:\n",
    "                nome = match.group(1).strip()\n",
    "                if nome:\n",
    "                    esercizi.append(nome)\n",
    "    return tuple(esercizi)\n",
    "\n",
    "file_path = r\"C:\\Users\\Utente\\Documents\\GitHub\\SCRIVI-SCHEDA\\scheda rodolfo 2 .docx\"\n",
    "esercizi = estrai_nomi_esercizi_da_docx(file_path)\n",
    "print(esercizi)"
   ]
  },
  {
   "cell_type": "code",
   "execution_count": 7,
   "id": "4c093347",
   "metadata": {},
   "outputs": [
    {
     "name": "stdout",
     "output_type": "stream",
     "text": [
      "{'pull up piedi a terra': 'https://www.youtube.com/shorts/PSWMoxeaPqQ', 'Australian pull up': 'https://www.youtube.com/watch?v=bHO0A4ZF_Zg', 'appensione passiva': 'https://www.youtube.com/watch?v=XwryUTVQNIU', 'po': '', 'arco lombare dinamico': '', 'tuck L-sit': 'https://www.youtube.com/watch?v=rDAQRbcZ-Gg', 'leg lift a terra': 'https://www.youtube.com/shorts/4IAvvc8lgJ8', 'mobilit': '', 'V': '', 'Push up piedi rialzo': 'https://www.youtube.com/shorts/3zStqe_AvMg', 'push up larghi': '', 'one leg squat box': 'https://www.youtube.com/shorts/PAZQt9XSAKU', 'Affondi': 'https://www.youtube.com/shorts/qe-F3_iRUug', 'hollow body': 'https://www.youtube.com/shorts/_wBPcny-7Hc', 'superman': 'https://www.youtube.com/watch?v=tYMHYWVvFjs', 'archer australian pull up': 'https://www.youtube.com/watch?v=fZfWEzI59S4', 'squat': 'https://www.youtube.com/watch?v=nhPtyxJBzbo', 'drinking bird': 'https://www.youtube.com/shorts/R2cSRhgUGSA', 'plank walk out': 'https://www.youtube.com/watch?v=Ao-nV3IdINQ', 'Plank laterale': 'https://www.youtube.com/shorts/fXoTfLuMogs', 'Dip': 'https://www.youtube.com/shorts/Zh5xZnL1WzI', 'V push up': 'https://www.youtube.com/shorts/V6BtY3Lt0Ys', 'dip panchetta': 'https://www.youtube.com/shorts/N3hB8rDErZI', 'calf raise': 'https://www.youtube.com/shorts/SjypFUbZBCA', 'affondi dietro': 'https://www.youtube.com/shorts/BCiA5p4cfMA', 'wall walk a': '', 'Video esercizi': ''}\n"
     ]
    }
   ],
   "source": [
    "import docx\n",
    "import re\n",
    "import json\n",
    "\n",
    "def estrai_nomi_esercizi_da_docx(file_path):\n",
    "    doc = docx.Document(file_path)\n",
    "    esercizi = []\n",
    "    for para in doc.paragraphs:\n",
    "        testo = para.text.strip()\n",
    "        if testo and not re.search(r\"(scheda|settimana|giorno)\", testo, re.IGNORECASE):\n",
    "            match = re.match(r\"([a-zA-Z\\s\\-]+)\", testo)\n",
    "            if match:\n",
    "                nome = match.group(1).strip()\n",
    "                if nome:\n",
    "                    esercizi.append(nome)\n",
    "    return tuple(esercizi)\n",
    "\n",
    "# Carica il file JSON con i link\n",
    "with open(r\"video_links.json\", \"r\", encoding=\"utf-8\") as f:\n",
    "    links_dict = json.load(f)\n",
    "\n",
    "file_path = r\"C:\\Users\\Utente\\Documents\\GitHub\\SCRIVI-SCHEDA\\scheda rodolfo 2 .docx\"\n",
    "esercizi = estrai_nomi_esercizi_da_docx(file_path)\n",
    "\n",
    "# Crea il dizionario finale\n",
    "esercizi_links = {es: links_dict.get(es, \"\") for es in esercizi}\n",
    "print(esercizi_links)"
   ]
  }
 ],
 "metadata": {
  "kernelspec": {
   "display_name": "Python 3",
   "language": "python",
   "name": "python3"
  },
  "language_info": {
   "codemirror_mode": {
    "name": "ipython",
    "version": 3
   },
   "file_extension": ".py",
   "mimetype": "text/x-python",
   "name": "python",
   "nbconvert_exporter": "python",
   "pygments_lexer": "ipython3",
   "version": "3.12.0"
  }
 },
 "nbformat": 4,
 "nbformat_minor": 5
}
