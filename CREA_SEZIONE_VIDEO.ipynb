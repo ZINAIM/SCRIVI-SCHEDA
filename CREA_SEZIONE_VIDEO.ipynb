{
 "cells": [
  {
   "cell_type": "code",
   "execution_count": 58,
   "id": "d8ac581b",
   "metadata": {},
   "outputs": [],
   "source": [
    "import json\n",
    "from collections import OrderedDict\n",
    "from prompt_toolkit import prompt\n",
    "from prompt_toolkit.completion import WordCompleter\n",
    "from docx import Document\n",
    "from docx.shared import Pt\n",
    "from docx.enum.text import WD_ALIGN_PARAGRAPH\n",
    "from aggiorna_link import aggiorna_link_da_lista\n",
    "from docx.oxml.ns import qn\n",
    "import os\n",
    "import webbrowser\n",
    "import time"
   ]
  },
  {
   "cell_type": "code",
   "execution_count": 93,
   "id": "c89d4906",
   "metadata": {},
   "outputs": [],
   "source": [
    "# === CONFIG FILE PATH ===\n",
    "BASE_DIR = os.getcwd()\n",
    "LINKS_JSON = os.path.join(BASE_DIR, \"video_links.json\")\n",
    "MANCANTI_TXT = os.path.join(BASE_DIR, \"mancanti.txt\")\n",
    "OUTPUT_DOC = os.path.join(BASE_DIR, f\"scheda prova.docx\")\n",
    "TEMP_JSON = os.path.join(BASE_DIR, \"scheda_temp.json\")\n",
    "\n",
    "# === Carica link esercizi da JSON ===\n",
    "try:\n",
    "    with open(LINKS_JSON, \"r\", encoding=\"utf-8\") as f:\n",
    "        video_links = json.load(f)\n",
    "except FileNotFoundError:\n",
    "    video_links = {}\n",
    "\n",
    "\n",
    "with open(TEMP_JSON, \"r\", encoding=\"utf-8\") as f:\n",
    "    scheda_dict = json.load(f)"
   ]
  },
  {
   "cell_type": "code",
   "execution_count": null,
   "id": "ba364189",
   "metadata": {},
   "outputs": [],
   "source": [
    "esercizi = []\n",
    "visti = set()\n",
    "for giorno in scheda_dict.values():\n",
    "    for esercizio in giorno:\n",
    "        nome = esercizio[\"esercizio\"].strip().lower()\n",
    "        if nome not in visti:\n",
    "            esercizi.append(esercizio[\"esercizio\"].strip().lower())\n",
    "            visti.add(nome)\n",
    "esercizi.pop(1)            "
   ]
  },
  {
   "cell_type": "code",
   "execution_count": 94,
   "id": "c15cddeb",
   "metadata": {},
   "outputs": [],
   "source": [
    "video_links = {chiave.strip().lower(): valore for chiave, valore in video_links.items()}"
   ]
  },
  {
   "cell_type": "code",
   "execution_count": 99,
   "id": "79b384ec",
   "metadata": {},
   "outputs": [],
   "source": [
    "# === Crea documento Word ===\n",
    "scheda = Document()\n",
    "# === Sezione video ===\n",
    "scheda.add_heading(\"Video esercizi\", level=1)\n",
    "esercizi_stampa = [nome.capitalize() for nome in esercizi]\n",
    "\n",
    "for nome in esercizi_stampa:\n",
    "    link = video_links.get(nome.strip().lower())\n",
    "    testo = f\"{nome}: {link}\" if link else f\"{nome}: 🔗 [manca link]\"\n",
    "    p = scheda.add_paragraph()\n",
    "    run = p.add_run(testo)\n",
    "    run.font.name = 'Courier New'\n",
    "    run._element.rPr.rFonts.set(qn('w:eastAsia'), 'Courier New')\n",
    "\n",
    "scheda.save(\"sezione video.docx\")"
   ]
  }
 ],
 "metadata": {
  "kernelspec": {
   "display_name": "Python 3",
   "language": "python",
   "name": "python3"
  },
  "language_info": {
   "codemirror_mode": {
    "name": "ipython",
    "version": 3
   },
   "file_extension": ".py",
   "mimetype": "text/x-python",
   "name": "python",
   "nbconvert_exporter": "python",
   "pygments_lexer": "ipython3",
   "version": "3.12.0"
  }
 },
 "nbformat": 4,
 "nbformat_minor": 5
}
